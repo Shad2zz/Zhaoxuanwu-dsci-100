{
 "cells": [
  {
   "cell_type": "markdown",
   "id": "3b7518ed-e332-427f-9d45-658057d9b212",
   "metadata": {},
   "source": []
  },
  {
   "cell_type": "markdown",
   "id": "ff585f57-77c9-4ea5-908c-cd01c6351bb6",
   "metadata": {},
   "source": [
    "# PREDICTING MINECRAFT SERVER NEWSLETTER SUBSCRIPTION USING PLAYER DEMOGRAPHICS AND BEHAVIOR\n",
    "\n",
    "**Name:** Zhaoxuan Wu  \n",
    "**GitHub:** [https://github.com/Shad2zz/Zhaoxuanwu-dsci-100](https://github.com/Shad2zz/Zhaoxuanwu-dsci-100)"
   ]
  },
  {
   "cell_type": "markdown",
   "id": "91186ac8-f35a-4eca-8133-247a1bc6e902",
   "metadata": {},
   "source": [
    "## Background\n",
    "- Video‐game research platforms (e.g., Minecraft servers) enable computer science researchers to collect real‐world player behavior data.  \n",
    "- The UBC research group led by Frank Wood aims to leverage these data to optimize player recruitment and allocate server resources effectively.  \n",
    "- Subscribing to the game newsletter serves as an indicator of player engagement and future interaction intent.\n",
    "\n",
    "## Question\n",
    "> “Can player demographics (age, gender, experience) and behavioral features (total play time, number of sessions, average session duration, night/weekend play proportion) predict whether a player will subscribe to the game newsletter?”\n",
    "\n",
    "## Data Description\n",
    "- **players.csv**  \n",
    "  - **Observations:** 196  \n",
    "  - **Variables (6):  \n",
    "    - `hashedEmail` (string): unique player identifier  \n",
    "    - `experience` (numeric): cumulative experience points  \n",
    "    - `played_hours` (numeric): total play time (hours)  \n",
    "    - `subscribed` (factor): subscription status (“Yes”/“No”)  \n",
    "    - `gender` (factor): gender (“Male”/“Female”/“Other”)  \n",
    "    - `age` (numeric): age in years  \n",
    "  - **Data Quality:** some missing age values; subscription rate approx. 60% Yes, 40% No\n",
    "\n",
    "- **sessions.csv**  \n",
    "  - **Observations:** 1,535  \n",
    "  - **Variables (3):**  \n",
    "    - `hashedEmail` (string): unique player identifier  \n",
    "    - `start_time` (string datetime): session start time (UTC)  \n",
    "    - `end_time` (string datetime): session end time (UTC)  \n",
    "  - **Data Quality:** some sessions span midnight, requiring careful handling in feature engineering\n",
    "\n",
    "> **Potential Issues:**  \n",
    "> - Time zone alignment and timestamp consistency  \n",
    "> - Players with no sessions or extremely long/short sessions  \n",
    "> - Unobserved external factors (e.g., network outages, server maintenance) may influence behavior  \n",
    "\n",
    "\n",
    "\n",
    "\n",
    "\n",
    "\n",
    "\n",
    "\n"
   ]
  },
  {
   "cell_type": "code",
   "execution_count": null,
   "id": "bc858bc7-688e-445b-a3ee-42e9cc28e77c",
   "metadata": {},
   "outputs": [],
   "source": [
    "library(tidyverse)   \n",
    "library(lubridate)   \n",
    "library(tidymodels)   \n",
    "library(cowplot)      \n",
    "library(dplyr)\n",
    "\n",
    "\n",
    "\n",
    "\n",
    "players  <- read_csv(\"https://raw.githubusercontent.com/Shad2zz/Zhaoxuanwu-dsci-100/refs/heads/main/players.csv\")\n",
    "sessions <- read_csv(\"https://raw.githubusercontent.com/Shad2zz/Zhaoxuanwu-dsci-100/refs/heads/main/sessions.csv\")\n",
    "\n",
    "\n",
    "head(players)\n",
    "tail(players)\n",
    "head(sessions)\n",
    "tail(sessions)\n"
   ]
  },
  {
   "cell_type": "markdown",
   "id": "81070468-3f60-437f-902f-87f149f6e1ba",
   "metadata": {},
   "source": []
  },
  {
   "cell_type": "code",
   "execution_count": null,
   "id": "a924a680-fe3d-4923-8f6b-2718f5231f62",
   "metadata": {},
   "outputs": [],
   "source": [
    "sessions <- sessions %>%\n",
    "  mutate(start_time = dmy_hm(start_time),\n",
    "         end_time = dmy_hm(end_time),\n",
    "         session_duration = as.numeric(difftime(end_time, start_time, units = \"mins\")),\n",
    "         is_night = hour(start_time) >= 21 | hour(start_time) < 6,\n",
    "         is_weekend = wday(start_time) %in% c(1, 7))\n",
    "behavior_summary <- sessions %>%\n",
    "  group_by(hashedEmail) %>%\n",
    "  summarise(\n",
    "    num_sessions = n(),\n",
    "    avg_session_duration = mean(session_duration, na.rm = TRUE),\n",
    "    night_play_ratio = mean(is_night),\n",
    "    weekend_play_ratio = mean(is_weekend)\n",
    "  )\n",
    "\n",
    "final_df <- players %>%\n",
    "  left_join(behavior_summary, by = \"hashedEmail\") %>%\n",
    "  mutate(\n",
    "    across(c(num_sessions, avg_session_duration, night_play_ratio, weekend_play_ratio),\n",
    "           ~ replace_na(., 0)),\n",
    "    subscribe = as.factor(subscribe),          \n",
    "    gender = as.factor(gender),                \n",
    "    experience = as.factor(experience)        \n",
    "  )"
   ]
  },
  {
   "cell_type": "markdown",
   "id": "3c6fa860-c358-4e73-9116-8ef87e0392e2",
   "metadata": {},
   "source": [
    "Left‐join sessions_features to players on hashedEmail.\n",
    "\n",
    "Replace NA in new features with 0.\n",
    "\n",
    "Convert subscribe and gender to factors."
   ]
  },
  {
   "cell_type": "code",
   "execution_count": null,
   "id": "82b98821-a224-4c16-803c-d34ba42abb3b",
   "metadata": {},
   "outputs": [],
   "source": [
    "final_df %>%\n",
    "  pivot_longer(cols = c(played_hours, num_sessions, avg_session_duration, night_play_ratio, weekend_play_ratio),\n",
    "               names_to = \"metric\", values_to = \"value\") %>%\n",
    "  ggplot(aes(x = subscribe, y = value, fill = subscribe)) +\n",
    "  geom_boxplot() +\n",
    "  facet_wrap(~ metric, scales = \"free\") +\n",
    "  labs(title = \"Comparison of Features by Subscription Status\",\n",
    "       x = \"Subscribed\", y = \"Value\") +\n",
    "  theme_minimal()"
   ]
  },
  {
   "cell_type": "markdown",
   "id": "d2271f1b-0363-451f-a420-63ab119af0c5",
   "metadata": {},
   "source": [
    "Compute mean and SD of each predictor by subscribe status.\n",
    "\n",
    "Visualize:\n",
    "\n",
    "Figure 1: Boxplot of played_hours by subscribe.\n",
    "\n",
    "Figure 2: Stacked bar chart of gender vs. subscribe."
   ]
  },
  {
   "cell_type": "code",
   "execution_count": null,
   "id": "e20f4d28-d91b-420a-9534-630c91ec690c",
   "metadata": {},
   "outputs": [],
   "source": [
    "set.seed(42)\n",
    "\n",
    "# 数据划分\n",
    "data_split <- initial_split(final_df, prop = 0.8, strata = subscribe)\n",
    "train_data <- training(data_split)\n",
    "test_data <- testing(data_split)\n",
    "\n",
    "# 数据预处理：标准化数值变量、编码类别变量\n",
    "knn_recipe <- recipe(subscribe ~ Age + gender + experience + played_hours + \n",
    "                       num_sessions + avg_session_duration + \n",
    "                       night_play_ratio + weekend_play_ratio,\n",
    "                     data = train_data) %>%\n",
    "  step_dummy(all_nominal_predictors()) %>%\n",
    "  step_normalize(all_numeric_predictors())"
   ]
  },
  {
   "cell_type": "markdown",
   "id": "008f1a37-b97f-4f64-b147-49833f1a1c60",
   "metadata": {},
   "source": [
    "Split data into train (70%) and test (30%) stratified by subscribe.\n",
    "\n",
    "Define logistic regression workflow with dummy encoding and normalization.\n",
    "\n",
    "Perform 5-fold CV on training set to evaluate AUC and accuracy.\n",
    "\n",
    "Fit final model and assess on test set.\n",
    "\n"
   ]
  },
  {
   "cell_type": "code",
   "execution_count": null,
   "id": "fdd7c309-7231-4f57-8f2d-100fab02df75",
   "metadata": {},
   "outputs": [],
   "source": [
    "knn_spec <- nearest_neighbor(neighbors = tune(), weight_func = \"rectangular\") %>%\n",
    "  set_engine(\"kknn\") %>%\n",
    "  set_mode(\"classification\")\n",
    "\n",
    "# 交叉验证折数\n",
    "cv_folds <- vfold_cv(train_data, v = 5, strata = subscribe)\n",
    "\n",
    "# workflow\n",
    "knn_wf <- workflow() %>%\n",
    "  add_recipe(knn_recipe) %>%\n",
    "  add_model(knn_spec)\n",
    "\n",
    "# 网格搜索调参\n",
    "knn_grid <- tibble(neighbors = seq(1, 15, 2))\n",
    "\n",
    "# 调参训练\n",
    "knn_results <- tune_grid(knn_wf,\n",
    "                         resamples = cv_folds,\n",
    "                         grid = knn_grid,\n",
    "                         metrics = metric_set(accuracy, roc_auc))\n",
    "\n",
    "# 查看结果\n",
    "knn_results %>% collect_metrics()\n",
    "knn_results"
   ]
  },
  {
   "cell_type": "code",
   "execution_count": null,
   "id": "edfea70f-2979-4e29-bf33-5ee39b85ef3c",
   "metadata": {},
   "outputs": [],
   "source": [
    "best_k <- knn_results %>%\n",
    "  select_best(\"accuracy\")\n",
    "\n",
    "# 最佳模型\n",
    "final_knn <- finalize_workflow(knn_wf, best_k)\n",
    "\n",
    "# 在测试集上评估\n",
    "knn_fit <- fit(final_knn, data = train_data)\n",
    "\n",
    "knn_predictions <- predict(knn_fit, test_data, type = \"prob\") %>%\n",
    "  bind_cols(predict(knn_fit, test_data), test_data)\n",
    "\n",
    "# 查看模型准确率\n",
    "metrics(knn_predictions, truth = subscribe, estimate = .pred_class)\n",
    "\n",
    "# 绘制ROC\n",
    "knn_predictions %>%\n",
    "  roc_curve(truth = subscribe, .pred_True) %>%\n",
    "  autoplot() +\n",
    "  labs(title = \"ROC Curve for KNN Classifier\")\n",
    "knn_predictions"
   ]
  },
  {
   "cell_type": "code",
   "execution_count": null,
   "id": "4af9ea3c-707d-416c-b2b5-b8c350218e8f",
   "metadata": {},
   "outputs": [],
   "source": []
  }
 ],
 "metadata": {
  "kernelspec": {
   "display_name": "R",
   "language": "R",
   "name": "ir"
  },
  "language_info": {
   "codemirror_mode": "r",
   "file_extension": ".r",
   "mimetype": "text/x-r-source",
   "name": "R",
   "pygments_lexer": "r",
   "version": "4.3.3"
  }
 },
 "nbformat": 4,
 "nbformat_minor": 5
}
