{
 "cells": [
  {
   "cell_type": "markdown",
   "id": "3b7518ed-e332-427f-9d45-658057d9b212",
   "metadata": {},
   "source": []
  },
  {
   "cell_type": "markdown",
   "id": "ff585f57-77c9-4ea5-908c-cd01c6351bb6",
   "metadata": {},
   "source": []
  },
  {
   "cell_type": "code",
   "execution_count": null,
   "id": "bc858bc7-688e-445b-a3ee-42e9cc28e77c",
   "metadata": {},
   "outputs": [],
   "source": [
    "library(tidyverse)   \n",
    "library(lubridate)   \n",
    "library(tidymodels)   \n",
    "library(cowplot)      \n",
    "\n",
    "\n",
    "\n",
    "players  <- read_csv(\"https://raw.githubusercontent.com/Shad2zz/Zhaoxuanwu-dsci-100/refs/heads/main/players.csv\")\n",
    "sessions <- read_csv(\"https://raw.githubusercontent.com/Shad2zz/Zhaoxuanwu-dsci-100/refs/heads/main/sessions.csv\")\n",
    "\n",
    "\n",
    "head(players)\n",
    "tail(players)\n",
    "head(sessions)\n",
    "tail(sessions)\n"
   ]
  },
  {
   "cell_type": "code",
   "execution_count": null,
   "id": "a924a680-fe3d-4923-8f6b-2718f5231f62",
   "metadata": {},
   "outputs": [],
   "source": []
  }
 ],
 "metadata": {
  "kernelspec": {
   "display_name": "R",
   "language": "R",
   "name": "ir"
  },
  "language_info": {
   "codemirror_mode": "r",
   "file_extension": ".r",
   "mimetype": "text/x-r-source",
   "name": "R",
   "pygments_lexer": "r",
   "version": "4.3.3"
  }
 },
 "nbformat": 4,
 "nbformat_minor": 5
}
