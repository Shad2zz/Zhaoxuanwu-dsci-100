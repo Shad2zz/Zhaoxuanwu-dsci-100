{
 "cells": [
  {
   "cell_type": "markdown",
   "id": "3b7518ed-e332-427f-9d45-658057d9b212",
   "metadata": {},
   "source": []
  },
  {
   "cell_type": "markdown",
   "id": "ff585f57-77c9-4ea5-908c-cd01c6351bb6",
   "metadata": {},
   "source": [
    "# PREDICTING MINECRAFT SERVER NEWSLETTER SUBSCRIPTION USING PLAYER DEMOGRAPHICS AND BEHAVIOR\n",
    "\n",
    "**Name:** Zhaoxuan Wu  \n",
    "**GitHub:** [https://github.com/Shad2zz/Zhaoxuanwu-dsci-100](https://github.com/Shad2zz/Zhaoxuanwu-dsci-100)"
   ]
  },
  {
   "cell_type": "markdown",
   "id": "91186ac8-f35a-4eca-8133-247a1bc6e902",
   "metadata": {},
   "source": [
    "## Background\n",
    "- Video‐game research platforms (e.g., Minecraft servers) enable computer science researchers to collect real‐world player behavior data.  \n",
    "- The UBC research group led by Frank Wood aims to leverage these data to optimize player recruitment and allocate server resources effectively.  \n",
    "- Subscribing to the game newsletter serves as an indicator of player engagement and future interaction intent.\n",
    "\n",
    "## Question\n",
    "> “Can player demographics (age, gender, experience) and behavioral features (total play time, number of sessions, average session duration, night/weekend play proportion) predict whether a player will subscribe to the game newsletter?”\n",
    "\n",
    "## Data Description\n",
    "- **players.csv**  \n",
    "  - **Observations:** 196  \n",
    "  - **Variables (6):  \n",
    "    - `hashedEmail` (string): unique player identifier  \n",
    "    - `experience` (numeric): cumulative experience points  \n",
    "    - `played_hours` (numeric): total play time (hours)  \n",
    "    - `subscribed` (factor): subscription status (“Yes”/“No”)  \n",
    "    - `gender` (factor): gender (“Male”/“Female”/“Other”)  \n",
    "    - `age` (numeric): age in years  \n",
    "  - **Data Quality:** some missing age values; subscription rate approx. 60% Yes, 40% No\n",
    "\n",
    "- **sessions.csv**  \n",
    "  - **Observations:** 1,535  \n",
    "  - **Variables (3):**  \n",
    "    - `hashedEmail` (string): unique player identifier  \n",
    "    - `start_time` (string datetime): session start time (UTC)  \n",
    "    - `end_time` (string datetime): session end time (UTC)  \n",
    "  - **Data Quality:** some sessions span midnight, requiring careful handling in feature engineering\n",
    "\n",
    "> **Potential Issues:**  \n",
    "> - Time zone alignment and timestamp consistency  \n",
    "> - Players with no sessions or extremely long/short sessions  \n",
    "> - Unobserved external factors (e.g., network outages, server maintenance) may influence behavior  \n",
    "\n",
    "\n",
    "\n",
    "\n",
    "\n",
    "\n",
    "\n",
    "\n"
   ]
  },
  {
   "cell_type": "code",
   "execution_count": null,
   "id": "bc858bc7-688e-445b-a3ee-42e9cc28e77c",
   "metadata": {},
   "outputs": [],
   "source": [
    "library(tidyverse)   \n",
    "library(lubridate)   \n",
    "library(tidymodels)   \n",
    "library(cowplot)      \n",
    "\n",
    "\n",
    "\n",
    "players  <- read_csv(\"https://raw.githubusercontent.com/Shad2zz/Zhaoxuanwu-dsci-100/refs/heads/main/players.csv\")\n",
    "sessions <- read_csv(\"https://raw.githubusercontent.com/Shad2zz/Zhaoxuanwu-dsci-100/refs/heads/main/sessions.csv\")\n",
    "\n",
    "\n",
    "head(players)\n",
    "tail(players)\n",
    "head(sessions)\n",
    "tail(sessions)\n"
   ]
  },
  {
   "cell_type": "markdown",
   "id": "81070468-3f60-437f-902f-87f149f6e1ba",
   "metadata": {},
   "source": [
    "Parse start_time/end_time as POSIX datetimes.\n",
    "\n",
    "Compute duration_mins, extract hour and weekday (wday).\n",
    "\n",
    "Flag sessions in night hours (20:00–06:00) and on weekends (Sat/Sun).\n",
    "\n",
    "Aggregate per player:\n",
    "\n",
    "n_sessions, avg_duration, prop_night, prop_weekend."
   ]
  },
  {
   "cell_type": "code",
   "execution_count": null,
   "id": "a924a680-fe3d-4923-8f6b-2718f5231f62",
   "metadata": {},
   "outputs": [],
   "source": [
    "sessions_features <- sessions %>%\n",
    "  mutate(\n",
    "    start         = ymd_hms(start_time),\n",
    "    end           = ymd_hms(end_time),\n",
    "    duration_mins = as.numeric(difftime(end, start, units = \"mins\")),\n",
    "    hour          = hour(start),\n",
    "    wday          = wday(start, label = TRUE),\n",
    "    night         = hour >= 20 | hour < 6,\n",
    "    weekend       = wday %in% c(\"Sat\", \"Sun\")\n",
    "  ) %>%\n",
    "  group_by(hashedEmail) %>%\n",
    "  summarise(\n",
    "    n_sessions   = n(),\n",
    "    avg_duration = mean(duration_mins, na.rm = TRUE),\n",
    "    prop_night   = mean(night, na.rm = TRUE),\n",
    "    prop_weekend = mean(weekend, na.rm = TRUE)\n",
    "  )\n",
    "sessions_features"
   ]
  },
  {
   "cell_type": "code",
   "execution_count": null,
   "id": "5d7cdd43-8c24-447a-ad49-26076e3452e2",
   "metadata": {},
   "outputs": [],
   "source": []
  }
 ],
 "metadata": {
  "kernelspec": {
   "display_name": "R",
   "language": "R",
   "name": "ir"
  },
  "language_info": {
   "codemirror_mode": "r",
   "file_extension": ".r",
   "mimetype": "text/x-r-source",
   "name": "R",
   "pygments_lexer": "r",
   "version": "4.3.3"
  }
 },
 "nbformat": 4,
 "nbformat_minor": 5
}
